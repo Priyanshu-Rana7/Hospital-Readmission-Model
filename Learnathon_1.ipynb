{
  "nbformat": 4,
  "nbformat_minor": 0,
  "metadata": {
    "colab": {
      "provenance": []
    },
    "kernelspec": {
      "name": "python3",
      "display_name": "Python 3"
    },
    "language_info": {
      "name": "python"
    }
  },
  "cells": [
    {
      "cell_type": "markdown",
      "source": [
        "#Cleaning the dataset"
      ],
      "metadata": {
        "id": "FbAMVoRsMV2s"
      }
    },
    {
      "cell_type": "code",
      "execution_count": 31,
      "metadata": {
        "colab": {
          "base_uri": "https://localhost:8080/"
        },
        "id": "zfpAFfIQ6ZHX",
        "outputId": "ffd396b7-1928-427e-d29b-69805e02fa8e"
      },
      "outputs": [
        {
          "output_type": "execute_result",
          "data": {
            "text/plain": [
              "np.int64(534)"
            ]
          },
          "metadata": {},
          "execution_count": 31
        }
      ],
      "source": [
        "import pandas as pd\n",
        "df=pd.read_csv(\"/content/healthcare_dataset_with_new_rules.csv\")\n",
        "df.duplicated().sum()"
      ]
    },
    {
      "cell_type": "markdown",
      "source": [
        "Dropping duplicates"
      ],
      "metadata": {
        "id": "3__s5JhxLRd7"
      }
    },
    {
      "cell_type": "code",
      "source": [
        "df.drop_duplicates(inplace=True)\n",
        "df.duplicated().sum()"
      ],
      "metadata": {
        "colab": {
          "base_uri": "https://localhost:8080/"
        },
        "id": "YHxFOc6JLKeC",
        "outputId": "2e60aa25-2d94-4e82-ea87-0754201eeab1"
      },
      "execution_count": 32,
      "outputs": [
        {
          "output_type": "execute_result",
          "data": {
            "text/plain": [
              "np.int64(0)"
            ]
          },
          "metadata": {},
          "execution_count": 32
        }
      ]
    },
    {
      "cell_type": "markdown",
      "source": [
        "Converting dates to datetime objects"
      ],
      "metadata": {
        "id": "Ax4NlL2CLb3z"
      }
    },
    {
      "cell_type": "code",
      "source": [
        "df['Date of Admission'] = pd.to_datetime(df['Date of Admission'], format='%d/%m/%Y', errors='coerce')\n",
        "df['Discharge Date'] = pd.to_datetime(df['Discharge Date'], format='%d/%m/%Y', errors='coerce')"
      ],
      "metadata": {
        "id": "giNzMnFcLUAv"
      },
      "execution_count": 33,
      "outputs": []
    },
    {
      "cell_type": "markdown",
      "source": [
        "Removing records where date of discharge is before date of admission"
      ],
      "metadata": {
        "id": "cu-7FekwLswF"
      }
    },
    {
      "cell_type": "code",
      "source": [
        "df['Length of Stay'] = (df['Discharge Date'] - df['Date of Admission']).dt.days\n",
        "invalid_dates = df['Length of Stay'].isnull().sum()\n",
        "negative_stay = (df['Length of Stay'] < 0).sum()\n",
        "\n",
        "if invalid_dates > 0:\n",
        "    df.dropna(subset=['Length of Stay'], inplace=True)\n",
        "    print(f\"Removed {invalid_dates} rows with invalid date formats.\")\n",
        "if negative_stay > 0:\n",
        "    df = df[df['Length of Stay'] >= 0]\n",
        "    print(f\"Removed {negative_stay} rows where discharge date was before admission date.\")"
      ],
      "metadata": {
        "id": "ulu3G_KnLywU"
      },
      "execution_count": 34,
      "outputs": []
    },
    {
      "cell_type": "markdown",
      "source": [
        "Handling missing values"
      ],
      "metadata": {
        "id": "hddBPs0BL4Qz"
      }
    },
    {
      "cell_type": "code",
      "source": [
        "df.isnull().sum()"
      ],
      "metadata": {
        "colab": {
          "base_uri": "https://localhost:8080/",
          "height": 617
        },
        "id": "-sBgoO8jL68q",
        "outputId": "d6e4a860-289c-4811-f9a9-4a5704d716b9"
      },
      "execution_count": 35,
      "outputs": [
        {
          "output_type": "execute_result",
          "data": {
            "text/plain": [
              "Name                  0\n",
              "Age                   0\n",
              "Gender                0\n",
              "Blood Type            0\n",
              "Medical Condition     0\n",
              "Date of Admission     0\n",
              "Doctor                0\n",
              "Hospital              0\n",
              "Insurance Provider    0\n",
              "Billing Amount        0\n",
              "Room Number           0\n",
              "Admission Type        0\n",
              "Discharge Date        0\n",
              "Medication            0\n",
              "Test Results          0\n",
              "Readmission           0\n",
              "Length of Stay        0\n",
              "dtype: int64"
            ],
            "text/html": [
              "<div>\n",
              "<style scoped>\n",
              "    .dataframe tbody tr th:only-of-type {\n",
              "        vertical-align: middle;\n",
              "    }\n",
              "\n",
              "    .dataframe tbody tr th {\n",
              "        vertical-align: top;\n",
              "    }\n",
              "\n",
              "    .dataframe thead th {\n",
              "        text-align: right;\n",
              "    }\n",
              "</style>\n",
              "<table border=\"1\" class=\"dataframe\">\n",
              "  <thead>\n",
              "    <tr style=\"text-align: right;\">\n",
              "      <th></th>\n",
              "      <th>0</th>\n",
              "    </tr>\n",
              "  </thead>\n",
              "  <tbody>\n",
              "    <tr>\n",
              "      <th>Name</th>\n",
              "      <td>0</td>\n",
              "    </tr>\n",
              "    <tr>\n",
              "      <th>Age</th>\n",
              "      <td>0</td>\n",
              "    </tr>\n",
              "    <tr>\n",
              "      <th>Gender</th>\n",
              "      <td>0</td>\n",
              "    </tr>\n",
              "    <tr>\n",
              "      <th>Blood Type</th>\n",
              "      <td>0</td>\n",
              "    </tr>\n",
              "    <tr>\n",
              "      <th>Medical Condition</th>\n",
              "      <td>0</td>\n",
              "    </tr>\n",
              "    <tr>\n",
              "      <th>Date of Admission</th>\n",
              "      <td>0</td>\n",
              "    </tr>\n",
              "    <tr>\n",
              "      <th>Doctor</th>\n",
              "      <td>0</td>\n",
              "    </tr>\n",
              "    <tr>\n",
              "      <th>Hospital</th>\n",
              "      <td>0</td>\n",
              "    </tr>\n",
              "    <tr>\n",
              "      <th>Insurance Provider</th>\n",
              "      <td>0</td>\n",
              "    </tr>\n",
              "    <tr>\n",
              "      <th>Billing Amount</th>\n",
              "      <td>0</td>\n",
              "    </tr>\n",
              "    <tr>\n",
              "      <th>Room Number</th>\n",
              "      <td>0</td>\n",
              "    </tr>\n",
              "    <tr>\n",
              "      <th>Admission Type</th>\n",
              "      <td>0</td>\n",
              "    </tr>\n",
              "    <tr>\n",
              "      <th>Discharge Date</th>\n",
              "      <td>0</td>\n",
              "    </tr>\n",
              "    <tr>\n",
              "      <th>Medication</th>\n",
              "      <td>0</td>\n",
              "    </tr>\n",
              "    <tr>\n",
              "      <th>Test Results</th>\n",
              "      <td>0</td>\n",
              "    </tr>\n",
              "    <tr>\n",
              "      <th>Readmission</th>\n",
              "      <td>0</td>\n",
              "    </tr>\n",
              "    <tr>\n",
              "      <th>Length of Stay</th>\n",
              "      <td>0</td>\n",
              "    </tr>\n",
              "  </tbody>\n",
              "</table>\n",
              "</div><br><label><b>dtype:</b> int64</label>"
            ]
          },
          "metadata": {},
          "execution_count": 35
        }
      ]
    },
    {
      "cell_type": "markdown",
      "source": [
        "Removing records with impossible age values"
      ],
      "metadata": {
        "id": "7_HgeIQ-MLwB"
      }
    },
    {
      "cell_type": "code",
      "source": [
        "illogical_age = df[(df['Age'] < 0) | (df['Age'] > 120)].shape[0]\n",
        "if illogical_age > 0:\n",
        "    df = df[(df['Age'] >= 0) & (df['Age'] <= 120)]\n",
        "    print(f\"Removed {illogical_age} rows with illogical age values.\")"
      ],
      "metadata": {
        "id": "tYIOFKgQMOYG"
      },
      "execution_count": 36,
      "outputs": []
    },
    {
      "cell_type": "markdown",
      "source": [
        "#Training the model"
      ],
      "metadata": {
        "id": "2tZ8SJYLMcMM"
      }
    },
    {
      "cell_type": "code",
      "source": [
        "import pandas as pd\n",
        "from sklearn.model_selection import train_test_split\n",
        "from sklearn.ensemble import RandomForestClassifier\n",
        "from sklearn.compose import ColumnTransformer\n",
        "from sklearn.preprocessing import OneHotEncoder\n",
        "from sklearn.pipeline import Pipeline\n",
        "from sklearn.metrics import classification_report, confusion_matrix\n",
        "\n",
        "#Importing the dataset\n",
        "try:\n",
        "    df = pd.read_csv(\"/content/healthcare_dataset_with_new_rules.csv\")\n",
        "except FileNotFoundError:\n",
        "    print(\"Error: Dataset not found.\")\n",
        "    print(\"Please make sure the dataset file is in the same directory as the script.\")\n",
        "    exit()\n",
        "\n",
        "#Defining the features x and y\n",
        "features=['Age', 'Medical Condition', 'Admission Type', 'Test Results']\n",
        "target='Readmission'\n",
        "\n",
        "X=df[features]\n",
        "y=df[target]\n",
        "\n",
        "X_train,X_test,y_train,y_test=train_test_split(X,y,test_size=0.2,random_state=42)\n",
        "\n",
        "categorical_features = ['Medical Condition', 'Admission Type', 'Test Results']\n",
        "\n",
        "preprocessor = ColumnTransformer(\n",
        "    transformers=[\n",
        "        ('cat', OneHotEncoder(handle_unknown='ignore'), categorical_features)\n",
        "    ],\n",
        "    remainder='passthrough'\n",
        ")\n",
        "\n",
        "model = RandomForestClassifier(random_state=42)\n",
        "\n",
        "pipeline = Pipeline(steps=[\n",
        "    ('preprocessor', preprocessor),\n",
        "    ('classifier', model)\n",
        "])\n",
        "\n",
        "print(\"Training the Random Forest model...\")\n",
        "pipeline.fit(X_train, y_train)\n",
        "print(\"Training complete.\")\n",
        "\n",
        "y_pred = pipeline.predict(X_test)\n",
        "\n",
        "print(\"\\n--- Model Evaluation Results ---\")\n",
        "\n",
        "# Print the classification report (precision, recall, f1-score)\n",
        "print(\"\\nClassification Report:\")\n",
        "print(classification_report(y_test, y_pred))\n",
        "\n",
        "# Print the confusion matrix\n",
        "print(\"\\nConfusion Matrix:\")\n",
        "print(\"         Predicted NO | Predicted YES\")\n",
        "conf_matrix = confusion_matrix(y_test, y_pred, labels=['No', 'Yes'])\n",
        "print(f\"Actual NO | {conf_matrix[0][0]:<12} | {conf_matrix[0][1]}\")\n",
        "print(f\"Actual YES| {conf_matrix[1][0]:<12} | {conf_matrix[1][1]}\")"
      ],
      "metadata": {
        "colab": {
          "base_uri": "https://localhost:8080/"
        },
        "id": "OGpio6xHMf9c",
        "outputId": "a943cbad-f5cd-4869-d320-6715d00e37d3"
      },
      "execution_count": 37,
      "outputs": [
        {
          "output_type": "stream",
          "name": "stdout",
          "text": [
            "Training the Random Forest model...\n",
            "Training complete.\n",
            "\n",
            "--- Model Evaluation Results ---\n",
            "\n",
            "Classification Report:\n",
            "              precision    recall  f1-score   support\n",
            "\n",
            "          No       1.00      1.00      1.00     10159\n",
            "         Yes       1.00      1.00      1.00       941\n",
            "\n",
            "    accuracy                           1.00     11100\n",
            "   macro avg       1.00      1.00      1.00     11100\n",
            "weighted avg       1.00      1.00      1.00     11100\n",
            "\n",
            "\n",
            "Confusion Matrix:\n",
            "         Predicted NO | Predicted YES\n",
            "Actual NO | 10159        | 0\n",
            "Actual YES| 0            | 941\n"
          ]
        }
      ]
    },
    {
      "cell_type": "markdown",
      "source": [
        "#Data visualization"
      ],
      "metadata": {
        "id": "xJj7IyrEg8Sn"
      }
    },
    {
      "cell_type": "markdown",
      "source": [
        "####Distribution of Numerical Columns"
      ],
      "metadata": {
        "id": "GoLti0lZiwmL"
      }
    },
    {
      "cell_type": "code",
      "source": [
        "import seaborn as sns\n",
        "import matplotlib.pyplot as plt\n",
        "\n",
        "sns.set_style(\"whitegrid\")\n",
        "palette = \"viridis\"\n",
        "\n",
        "\n",
        "print(\"Generating distribution plots for numerical data...\")\n",
        "plt.figure(figsize=(12, 5))\n",
        "\n",
        "# Histogram for Age\n",
        "plt.subplot(1, 2, 1)\n",
        "sns.histplot(df['Age'], kde=True, color=sns.color_palette(palette)[0])\n",
        "plt.title('Distribution of Patient Age')\n",
        "plt.xlabel('Age')\n",
        "plt.ylabel('Frequency')\n",
        "\n",
        "# Histogram for Billing Amount\n",
        "plt.subplot(1, 2, 2)\n",
        "sns.histplot(df['Billing Amount'], kde=True, color=sns.color_palette(palette)[2])\n",
        "plt.title('Distribution of Billing Amount')\n",
        "plt.xlabel('Billing Amount')\n",
        "plt.ylabel('Frequency')\n",
        "\n",
        "plt.tight_layout()\n",
        "plt.savefig('numerical_distributions.png')"
      ],
      "metadata": {
        "id": "MxKKPd2NhVCq"
      },
      "execution_count": null,
      "outputs": []
    },
    {
      "cell_type": "markdown",
      "source": [
        "####Relationship between Age and Billing Amount"
      ],
      "metadata": {
        "id": "rJEgTN6qjDcq"
      }
    },
    {
      "cell_type": "code",
      "source": [
        "print(\"Generating scatter plot for Age vs. Billing Amount...\")\n",
        "plt.figure(figsize=(8, 6))\n",
        "sns.scatterplot(x='Age', y='Billing Amount', data=df, alpha=0.5, color=sns.color_palette(palette)[4])\n",
        "plt.title('Age vs. Billing Amount')\n",
        "plt.xlabel('Age')\n",
        "plt.ylabel('Billing Amount')\n",
        "plt.tight_layout()\n",
        "plt.savefig('age_vs_billing_scatter.png')"
      ],
      "metadata": {
        "id": "IzR2StJRiRFq"
      },
      "execution_count": null,
      "outputs": []
    },
    {
      "cell_type": "markdown",
      "source": [
        "####Box Plot Distribution by Medical Condition"
      ],
      "metadata": {
        "id": "etp0AWZijKu0"
      }
    },
    {
      "cell_type": "code",
      "source": [
        "print(\"Generating box plots for Billing Amount by Medical Condition...\")\n",
        "plt.figure(figsize=(12, 7))\n",
        "sns.boxplot(y='Medical Condition', x='Billing Amount', data=df, palette=palette)\n",
        "plt.title('Billing Amount Across Medical Conditions')\n",
        "plt.xlabel('Billing Amount')\n",
        "plt.ylabel('Medical Condition')\n",
        "plt.tight_layout()\n",
        "plt.savefig('billing_by_condition_boxplot.png')"
      ],
      "metadata": {
        "id": "GVDlxSxsiRom"
      },
      "execution_count": null,
      "outputs": []
    },
    {
      "cell_type": "markdown",
      "source": [
        "####Correlation matrix of numerical values"
      ],
      "metadata": {
        "id": "XoncCPZYjjqI"
      }
    },
    {
      "cell_type": "code",
      "source": [
        "print(\"Generating a correlation heatmap...\")\n",
        "plt.figure(figsize=(8, 6))\n",
        "\n",
        "numeric_cols = df.select_dtypes(include=['number'])\n",
        "corr_matrix = numeric_cols.corr()\n",
        "sns.heatmap(corr_matrix, annot=True, cmap='coolwarm', fmt=\".2f\")\n",
        "plt.title('Correlation Matrix of Numerical Features')\n",
        "plt.tight_layout()\n",
        "plt.savefig('correlation_heatmap.png')"
      ],
      "metadata": {
        "id": "6rByLzoLiXT_"
      },
      "execution_count": null,
      "outputs": []
    },
    {
      "cell_type": "markdown",
      "source": [
        "#Saving as a pickle file"
      ],
      "metadata": {
        "id": "l8Buw7-PlDIv"
      }
    },
    {
      "cell_type": "code",
      "source": [
        "import pickle\n",
        "filename = 'readmission_model.pkl'\n",
        "with open(filename, 'wb') as file:\n",
        "    pickle.dump(pipeline, file)"
      ],
      "metadata": {
        "id": "WYGOAUE8lGUM"
      },
      "execution_count": 39,
      "outputs": []
    }
  ]
}